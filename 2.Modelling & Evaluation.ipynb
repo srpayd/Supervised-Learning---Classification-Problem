{
 "cells": [
  {
   "cell_type": "markdown",
   "id": "9a2f0be1",
   "metadata": {},
   "source": [
    "# Modelling and Evaluation"
   ]
  },
  {
   "cell_type": "markdown",
   "id": "af8e95ca",
   "metadata": {},
   "source": [
    "## Goal\n",
    "\n",
    "The purpose of this notebook is to build two classification models on training data and generate predictions on the data in test.csv using each of trained models. \n",
    "\n",
    "The exercise_40_train.csv data is going to be training dataset of this study and the exercise_40_test.csv data is going to be test (out of sample) dataset of two main models.\n",
    "\n",
    "The outcome variable is \"y\". It has two classes as 1 and 0.\n",
    "\n",
    "Logistic Regression, and Neural Network are the models used for this assignment.\n",
    "\n",
    "\n",
    "## Data Description\n",
    "\n",
    "The dataset of this section contains 7052 observations along with 80 columns after cleaning steps placed in  the EDA & Data Cleaning notebook.\n",
    "\n",
    "\n",
    "## Code and Results\n",
    "\n",
    "End of the each section and in the middle of the code blocks you will encounter the main/intermadiate findings of the study as brief comments.\n",
    "\n",
    "The \"glmresults.csv\" file contains the prediction results obtained from Logistic Regression.\n",
    "\n",
    "The \"nonglmresults.csv\" file contains the prediction results obtained from Neural Network model.\n"
   ]
  },
  {
   "cell_type": "code",
   "execution_count": 1,
   "id": "511ea891",
   "metadata": {},
   "outputs": [
    {
     "name": "stderr",
     "output_type": "stream",
     "text": [
      "2023-02-23 14:19:15.802534: I tensorflow/core/platform/cpu_feature_guard.cc:193] This TensorFlow binary is optimized with oneAPI Deep Neural Network Library (oneDNN) to use the following CPU instructions in performance-critical operations:  SSE4.1 SSE4.2\n",
      "To enable them in other operations, rebuild TensorFlow with the appropriate compiler flags.\n"
     ]
    }
   ],
   "source": [
    "#Load Libraries\n",
    "\n",
    "import warnings\n",
    "warnings.filterwarnings(\"ignore\")\n",
    "\n",
    "import os\n",
    "os.environ['KMP_DUPLICATE_LIB_OK']='True'\n",
    "\n",
    "import pandas as pd\n",
    "import numpy as np\n",
    "import matplotlib.pyplot as plt\n",
    "from numpy import asarray\n",
    "from numpy import savetxt\n",
    "\n",
    "# Visuallization \n",
    "import matplotlib.pyplot as plt\n",
    "\n",
    "# Neural Network\n",
    "import pandas as pd\n",
    "import numpy as np\n",
    "import matplotlib.pyplot as plt\n",
    "from keras.models import Sequential\n",
    "from keras.layers import Dense\n",
    "from keras import optimizers\n",
    "\n",
    "\n",
    "# For the model\n",
    "from sklearn.pipeline import Pipeline\n",
    "from sklearn.decomposition import PCA\n",
    "from sklearn.metrics import roc_auc_score\n",
    "from sklearn.preprocessing import MinMaxScaler\n",
    "from sklearn.datasets import make_classification\n",
    "from sklearn.model_selection import train_test_split\n",
    "from sklearn.ensemble import GradientBoostingClassifier\n",
    "from sklearn.ensemble import RandomForestClassifier\n",
    "from sklearn.linear_model import Lasso, LogisticRegression\n",
    "from sklearn.feature_selection import SelectFromModel\n",
    "from sklearn.preprocessing import StandardScaler\n",
    "from sklearn.model_selection import cross_val_score, KFold\n",
    "from sklearn.metrics import matthews_corrcoef\n",
    "from sklearn.metrics import classification_report\n",
    "from sklearn.metrics import confusion_matrix\n",
    "from sklearn.metrics import accuracy_score\n",
    "from sklearn.metrics import roc_auc_score\n",
    "from sklearn.metrics import roc_curve\n",
    "\n",
    "\n",
    "# Feature-engine\n",
    "from feature_engine.encoding import OneHotEncoder\n",
    "from feature_engine.imputation import CategoricalImputer\n",
    "from feature_engine import imputation as mdi\n",
    "from feature_engine import discretisation as dsc\n",
    "from feature_engine import encoding as ce\n",
    "from feature_engine.transformation import YeoJohnsonTransformer\n",
    "\n",
    "\n",
    "# Neural Network\n",
    "import pandas as pd\n",
    "import numpy as np\n",
    "import matplotlib.pyplot as plt\n",
    "from keras.models import Sequential\n",
    "from keras.layers import Dense\n",
    "from keras import optimizers\n",
    "\n",
    "\n",
    "# Imbalance Issue\n",
    "from sklearn.ensemble import (\n",
    "    RandomForestClassifier,\n",
    "    BaggingClassifier,\n",
    "    AdaBoostClassifier,\n",
    ")\n",
    "from imblearn.datasets import fetch_datasets\n",
    "from imblearn.under_sampling import RandomUnderSampler\n",
    "from imblearn.over_sampling import SMOTE\n",
    "from imblearn.ensemble import (\n",
    "    BalancedBaggingClassifier,\n",
    "    BalancedRandomForestClassifier,\n",
    "    RUSBoostClassifier,\n",
    "    EasyEnsembleClassifier,\n",
    ")\n",
    "from imblearn.under_sampling import CondensedNearestNeighbour\n",
    "from imblearn.under_sampling import OneSidedSelection\n",
    "from imblearn.under_sampling import TomekLinks\n",
    "from imblearn.under_sampling import (\n",
    "    EditedNearestNeighbours,\n",
    "    RepeatedEditedNearestNeighbours,\n",
    "    AllKNN\n",
    ")"
   ]
  },
  {
   "cell_type": "markdown",
   "id": "99a67b79",
   "metadata": {},
   "source": [
    "## Data Collection"
   ]
  },
  {
   "cell_type": "code",
   "execution_count": 2,
   "id": "4eb485c5",
   "metadata": {},
   "outputs": [
    {
     "data": {
      "text/html": [
       "<div>\n",
       "<style scoped>\n",
       "    .dataframe tbody tr th:only-of-type {\n",
       "        vertical-align: middle;\n",
       "    }\n",
       "\n",
       "    .dataframe tbody tr th {\n",
       "        vertical-align: top;\n",
       "    }\n",
       "\n",
       "    .dataframe thead th {\n",
       "        text-align: right;\n",
       "    }\n",
       "</style>\n",
       "<table border=\"1\" class=\"dataframe\">\n",
       "  <thead>\n",
       "    <tr style=\"text-align: right;\">\n",
       "      <th></th>\n",
       "      <th>y</th>\n",
       "      <th>x59</th>\n",
       "      <th>x79</th>\n",
       "      <th>x98</th>\n",
       "      <th>x24</th>\n",
       "      <th>x31</th>\n",
       "      <th>x60</th>\n",
       "      <th>x65</th>\n",
       "      <th>x77</th>\n",
       "      <th>x93</th>\n",
       "      <th>...</th>\n",
       "      <th>transformed_x89</th>\n",
       "      <th>transformed_x91</th>\n",
       "      <th>transformed_x92</th>\n",
       "      <th>transformed_x94</th>\n",
       "      <th>transformed_x95</th>\n",
       "      <th>transformed_x96</th>\n",
       "      <th>transformed_x97</th>\n",
       "      <th>transformed_x100</th>\n",
       "      <th>transformed_cleaned_x7</th>\n",
       "      <th>transformed_cleaned_x19</th>\n",
       "    </tr>\n",
       "  </thead>\n",
       "  <tbody>\n",
       "    <tr>\n",
       "      <th>0</th>\n",
       "      <td>0</td>\n",
       "      <td>0</td>\n",
       "      <td>1.0</td>\n",
       "      <td>0</td>\n",
       "      <td>male</td>\n",
       "      <td>yes</td>\n",
       "      <td>January</td>\n",
       "      <td>farmers</td>\n",
       "      <td>Missing</td>\n",
       "      <td>no</td>\n",
       "      <td>...</td>\n",
       "      <td>2.265617</td>\n",
       "      <td>-0.512431</td>\n",
       "      <td>1.846892</td>\n",
       "      <td>3.124327</td>\n",
       "      <td>-0.112767</td>\n",
       "      <td>1.288350</td>\n",
       "      <td>6.328536</td>\n",
       "      <td>78.671733</td>\n",
       "      <td>-0.010583</td>\n",
       "      <td>32.806694</td>\n",
       "    </tr>\n",
       "    <tr>\n",
       "      <th>1</th>\n",
       "      <td>1</td>\n",
       "      <td>0</td>\n",
       "      <td>1.0</td>\n",
       "      <td>0</td>\n",
       "      <td>male</td>\n",
       "      <td>no</td>\n",
       "      <td>Rare</td>\n",
       "      <td>progressive</td>\n",
       "      <td>Missing</td>\n",
       "      <td>no</td>\n",
       "      <td>...</td>\n",
       "      <td>2.331022</td>\n",
       "      <td>0.923933</td>\n",
       "      <td>1.019922</td>\n",
       "      <td>3.213619</td>\n",
       "      <td>-0.363654</td>\n",
       "      <td>1.230329</td>\n",
       "      <td>6.844704</td>\n",
       "      <td>80.518567</td>\n",
       "      <td>-0.005196</td>\n",
       "      <td>1396.706508</td>\n",
       "    </tr>\n",
       "    <tr>\n",
       "      <th>2</th>\n",
       "      <td>0</td>\n",
       "      <td>1</td>\n",
       "      <td>1.0</td>\n",
       "      <td>1</td>\n",
       "      <td>male</td>\n",
       "      <td>no</td>\n",
       "      <td>August</td>\n",
       "      <td>allstate</td>\n",
       "      <td>nissan</td>\n",
       "      <td>no</td>\n",
       "      <td>...</td>\n",
       "      <td>2.074972</td>\n",
       "      <td>-2.549789</td>\n",
       "      <td>4.190514</td>\n",
       "      <td>3.394245</td>\n",
       "      <td>-2.041487</td>\n",
       "      <td>1.252407</td>\n",
       "      <td>9.936736</td>\n",
       "      <td>70.378750</td>\n",
       "      <td>-0.001400</td>\n",
       "      <td>-900.175793</td>\n",
       "    </tr>\n",
       "    <tr>\n",
       "      <th>3</th>\n",
       "      <td>0</td>\n",
       "      <td>0</td>\n",
       "      <td>1.0</td>\n",
       "      <td>1</td>\n",
       "      <td>male</td>\n",
       "      <td>no</td>\n",
       "      <td>Rare</td>\n",
       "      <td>esurance</td>\n",
       "      <td>ford</td>\n",
       "      <td>no</td>\n",
       "      <td>...</td>\n",
       "      <td>2.518079</td>\n",
       "      <td>0.150573</td>\n",
       "      <td>-1.544330</td>\n",
       "      <td>3.184899</td>\n",
       "      <td>0.242155</td>\n",
       "      <td>1.218931</td>\n",
       "      <td>9.003309</td>\n",
       "      <td>72.656706</td>\n",
       "      <td>-0.008589</td>\n",
       "      <td>-423.215044</td>\n",
       "    </tr>\n",
       "    <tr>\n",
       "      <th>4</th>\n",
       "      <td>1</td>\n",
       "      <td>0</td>\n",
       "      <td>1.0</td>\n",
       "      <td>0</td>\n",
       "      <td>male</td>\n",
       "      <td>no</td>\n",
       "      <td>August</td>\n",
       "      <td>allstate</td>\n",
       "      <td>nissan</td>\n",
       "      <td>no</td>\n",
       "      <td>...</td>\n",
       "      <td>2.081187</td>\n",
       "      <td>1.604100</td>\n",
       "      <td>1.323545</td>\n",
       "      <td>1.839678</td>\n",
       "      <td>0.619195</td>\n",
       "      <td>1.252318</td>\n",
       "      <td>6.167408</td>\n",
       "      <td>80.090052</td>\n",
       "      <td>0.002301</td>\n",
       "      <td>-26.625252</td>\n",
       "    </tr>\n",
       "  </tbody>\n",
       "</table>\n",
       "<p>5 rows × 80 columns</p>\n",
       "</div>"
      ],
      "text/plain": [
       "   y  x59  x79  x98   x24  x31      x60          x65      x77 x93  ...  \\\n",
       "0  0    0  1.0    0  male  yes  January      farmers  Missing  no  ...   \n",
       "1  1    0  1.0    0  male   no     Rare  progressive  Missing  no  ...   \n",
       "2  0    1  1.0    1  male   no   August     allstate   nissan  no  ...   \n",
       "3  0    0  1.0    1  male   no     Rare     esurance     ford  no  ...   \n",
       "4  1    0  1.0    0  male   no   August     allstate   nissan  no  ...   \n",
       "\n",
       "  transformed_x89 transformed_x91  transformed_x92  transformed_x94  \\\n",
       "0        2.265617       -0.512431         1.846892         3.124327   \n",
       "1        2.331022        0.923933         1.019922         3.213619   \n",
       "2        2.074972       -2.549789         4.190514         3.394245   \n",
       "3        2.518079        0.150573        -1.544330         3.184899   \n",
       "4        2.081187        1.604100         1.323545         1.839678   \n",
       "\n",
       "   transformed_x95  transformed_x96  transformed_x97  transformed_x100  \\\n",
       "0        -0.112767         1.288350         6.328536         78.671733   \n",
       "1        -0.363654         1.230329         6.844704         80.518567   \n",
       "2        -2.041487         1.252407         9.936736         70.378750   \n",
       "3         0.242155         1.218931         9.003309         72.656706   \n",
       "4         0.619195         1.252318         6.167408         80.090052   \n",
       "\n",
       "   transformed_cleaned_x7  transformed_cleaned_x19  \n",
       "0               -0.010583                32.806694  \n",
       "1               -0.005196              1396.706508  \n",
       "2               -0.001400              -900.175793  \n",
       "3               -0.008589              -423.215044  \n",
       "4                0.002301               -26.625252  \n",
       "\n",
       "[5 rows x 80 columns]"
      ]
     },
     "execution_count": 2,
     "metadata": {},
     "output_type": "execute_result"
    }
   ],
   "source": [
    "# upload the cleaned training.csv data\n",
    "\n",
    "data=pd.read_csv('cleaned_train.csv')\n",
    "data = data.loc[:, ~data.columns.str.contains('^Unnamed')]\n",
    "data.head()"
   ]
  },
  {
   "cell_type": "code",
   "execution_count": 3,
   "id": "296f73b4",
   "metadata": {},
   "outputs": [
    {
     "name": "stdout",
     "output_type": "stream",
     "text": [
      "Number of observations: 7052 \n",
      "Number of features: 80 \n",
      "\n",
      "Target variable: y\n",
      "There are 3 discrete variables\n",
      "There are 68 continuous variables\n",
      "There are 8 categorical variables\n"
     ]
    }
   ],
   "source": [
    "# Data shape\n",
    "print(f'Number of observations: {data.shape[0]} ')\n",
    "print(f'Number of features: {data.shape[1]} \\n')\n",
    "\n",
    "# numerical: discrete vs continuous\n",
    "discrete = [var for var in data.columns if data[var].dtype!='O' and data[var].nunique()<3 and var != 'y']\n",
    "continuous = [var for var in data.columns if data[var].dtype!='O' and var not in discrete and var != 'y' ]\n",
    "target=data['y']\n",
    "\n",
    "# categorical\n",
    "categorical = [var for var in data.columns if data[var].dtype=='O' and var != 'y' ]\n",
    "\n",
    "print('Target variable: {}'.format('y'))\n",
    "print('There are {} discrete variables'.format(len(discrete)))\n",
    "print('There are {} continuous variables'.format(len(continuous)))\n",
    "print('There are {} categorical variables'.format(len(categorical)))"
   ]
  },
  {
   "cell_type": "markdown",
   "id": "ebbf7f84",
   "metadata": {},
   "source": [
    "## Preprocessing"
   ]
  },
  {
   "cell_type": "markdown",
   "id": "416565c6",
   "metadata": {},
   "source": [
    "The highlight here is that I apply one hot encoding, undersampling, feature scaling, and feature selection steps __right after train-test split__. The main reason to do that is avoiding overfitting.\n",
    "<br> In addition, I will implement undersampling on train SET ONLY !"
   ]
  },
  {
   "cell_type": "markdown",
   "id": "0d48c782",
   "metadata": {},
   "source": [
    "### Train - Test Split"
   ]
  },
  {
   "cell_type": "code",
   "execution_count": 4,
   "id": "0541db3d",
   "metadata": {},
   "outputs": [
    {
     "data": {
      "text/plain": [
       "((5641, 79), (1411, 79))"
      ]
     },
     "execution_count": 4,
     "metadata": {},
     "output_type": "execute_result"
    }
   ],
   "source": [
    "# let's separate into training and testing set\n",
    "\n",
    "X_train, X_test, y_train, y_test = train_test_split(\n",
    "                                                      data.drop(\"y\", axis=1),  # predictors\n",
    "                                                      data[\"y\"],               # target\n",
    "                                                      test_size=0.2,           # percentage of obs in test set\n",
    "                                                      random_state=0,\n",
    "                                                    )  \n",
    "\n",
    "X_train.shape, X_test.shape"
   ]
  },
  {
   "cell_type": "markdown",
   "id": "fae89d86",
   "metadata": {},
   "source": [
    "### Categorical Encoding"
   ]
  },
  {
   "cell_type": "code",
   "execution_count": 5,
   "id": "df729c4f",
   "metadata": {},
   "outputs": [],
   "source": [
    "# casting discrete variables to categorical variable\n",
    "\n",
    "data[discrete]=data[discrete].astype('O')"
   ]
  },
  {
   "cell_type": "code",
   "execution_count": 6,
   "id": "dbfbea14",
   "metadata": {},
   "outputs": [],
   "source": [
    "pipe_enc = Pipeline([\n",
    "\n",
    "                    ('ohe', ce.OneHotEncoder( \n",
    "                                              drop_last=True))\n",
    "\n",
    "])"
   ]
  },
  {
   "cell_type": "code",
   "execution_count": 7,
   "id": "7b80de99",
   "metadata": {},
   "outputs": [
    {
     "data": {
      "text/plain": [
       "Pipeline(steps=[('ohe', OneHotEncoder(drop_last=True))])"
      ]
     },
     "execution_count": 7,
     "metadata": {},
     "output_type": "execute_result"
    }
   ],
   "source": [
    "# fit pipeline\n",
    "\n",
    "pipe_enc.fit(X_train)"
   ]
  },
  {
   "cell_type": "code",
   "execution_count": 8,
   "id": "4d975cb6",
   "metadata": {},
   "outputs": [
    {
     "data": {
      "text/html": [
       "<div>\n",
       "<style scoped>\n",
       "    .dataframe tbody tr th:only-of-type {\n",
       "        vertical-align: middle;\n",
       "    }\n",
       "\n",
       "    .dataframe tbody tr th {\n",
       "        vertical-align: top;\n",
       "    }\n",
       "\n",
       "    .dataframe thead th {\n",
       "        text-align: right;\n",
       "    }\n",
       "</style>\n",
       "<table border=\"1\" class=\"dataframe\">\n",
       "  <thead>\n",
       "    <tr style=\"text-align: right;\">\n",
       "      <th></th>\n",
       "      <th>x59</th>\n",
       "      <th>x79</th>\n",
       "      <th>x98</th>\n",
       "      <th>transformed_x1</th>\n",
       "      <th>transformed_x4</th>\n",
       "      <th>transformed_x5</th>\n",
       "      <th>transformed_x6</th>\n",
       "      <th>transformed_x8</th>\n",
       "      <th>transformed_x9</th>\n",
       "      <th>transformed_x10</th>\n",
       "      <th>...</th>\n",
       "      <th>cleaned_x3_Wednesday</th>\n",
       "      <th>cleaned_x3_Saturday</th>\n",
       "      <th>cleaned_x3_Tuesday</th>\n",
       "      <th>cleaned_x3_Friday</th>\n",
       "      <th>cleaned_x3_Sunday</th>\n",
       "      <th>cleaned_x33_Midwest</th>\n",
       "      <th>cleaned_x33_Missing</th>\n",
       "      <th>cleaned_x33_Northeast</th>\n",
       "      <th>cleaned_x33_South</th>\n",
       "      <th>cleaned_x33_Southwest</th>\n",
       "    </tr>\n",
       "  </thead>\n",
       "  <tbody>\n",
       "    <tr>\n",
       "      <th>1891</th>\n",
       "      <td>0</td>\n",
       "      <td>0.0</td>\n",
       "      <td>0</td>\n",
       "      <td>1.975301</td>\n",
       "      <td>-1.855417</td>\n",
       "      <td>1.181794</td>\n",
       "      <td>0.267337</td>\n",
       "      <td>0.838011</td>\n",
       "      <td>1.332696</td>\n",
       "      <td>-0.897682</td>\n",
       "      <td>...</td>\n",
       "      <td>0</td>\n",
       "      <td>0</td>\n",
       "      <td>0</td>\n",
       "      <td>0</td>\n",
       "      <td>0</td>\n",
       "      <td>1</td>\n",
       "      <td>0</td>\n",
       "      <td>0</td>\n",
       "      <td>0</td>\n",
       "      <td>0</td>\n",
       "    </tr>\n",
       "    <tr>\n",
       "      <th>3055</th>\n",
       "      <td>0</td>\n",
       "      <td>1.0</td>\n",
       "      <td>0</td>\n",
       "      <td>2.843902</td>\n",
       "      <td>-1.497030</td>\n",
       "      <td>1.495477</td>\n",
       "      <td>-0.811803</td>\n",
       "      <td>2.607994</td>\n",
       "      <td>2.757972</td>\n",
       "      <td>0.291428</td>\n",
       "      <td>...</td>\n",
       "      <td>1</td>\n",
       "      <td>0</td>\n",
       "      <td>0</td>\n",
       "      <td>0</td>\n",
       "      <td>0</td>\n",
       "      <td>0</td>\n",
       "      <td>1</td>\n",
       "      <td>0</td>\n",
       "      <td>0</td>\n",
       "      <td>0</td>\n",
       "    </tr>\n",
       "    <tr>\n",
       "      <th>5135</th>\n",
       "      <td>1</td>\n",
       "      <td>1.0</td>\n",
       "      <td>0</td>\n",
       "      <td>1.805649</td>\n",
       "      <td>-1.173456</td>\n",
       "      <td>0.566603</td>\n",
       "      <td>0.584945</td>\n",
       "      <td>0.900835</td>\n",
       "      <td>1.812861</td>\n",
       "      <td>0.297323</td>\n",
       "      <td>...</td>\n",
       "      <td>0</td>\n",
       "      <td>0</td>\n",
       "      <td>0</td>\n",
       "      <td>0</td>\n",
       "      <td>0</td>\n",
       "      <td>1</td>\n",
       "      <td>0</td>\n",
       "      <td>0</td>\n",
       "      <td>0</td>\n",
       "      <td>0</td>\n",
       "    </tr>\n",
       "    <tr>\n",
       "      <th>2359</th>\n",
       "      <td>0</td>\n",
       "      <td>1.0</td>\n",
       "      <td>1</td>\n",
       "      <td>4.787096</td>\n",
       "      <td>0.567696</td>\n",
       "      <td>-0.186570</td>\n",
       "      <td>-0.859806</td>\n",
       "      <td>-0.678377</td>\n",
       "      <td>2.586730</td>\n",
       "      <td>-1.200551</td>\n",
       "      <td>...</td>\n",
       "      <td>0</td>\n",
       "      <td>1</td>\n",
       "      <td>0</td>\n",
       "      <td>0</td>\n",
       "      <td>0</td>\n",
       "      <td>0</td>\n",
       "      <td>0</td>\n",
       "      <td>1</td>\n",
       "      <td>0</td>\n",
       "      <td>0</td>\n",
       "    </tr>\n",
       "    <tr>\n",
       "      <th>3010</th>\n",
       "      <td>0</td>\n",
       "      <td>1.0</td>\n",
       "      <td>1</td>\n",
       "      <td>1.285235</td>\n",
       "      <td>0.034459</td>\n",
       "      <td>0.277515</td>\n",
       "      <td>-2.070515</td>\n",
       "      <td>0.050910</td>\n",
       "      <td>3.907809</td>\n",
       "      <td>-1.724578</td>\n",
       "      <td>...</td>\n",
       "      <td>0</td>\n",
       "      <td>0</td>\n",
       "      <td>0</td>\n",
       "      <td>0</td>\n",
       "      <td>0</td>\n",
       "      <td>0</td>\n",
       "      <td>0</td>\n",
       "      <td>0</td>\n",
       "      <td>1</td>\n",
       "      <td>0</td>\n",
       "    </tr>\n",
       "    <tr>\n",
       "      <th>...</th>\n",
       "      <td>...</td>\n",
       "      <td>...</td>\n",
       "      <td>...</td>\n",
       "      <td>...</td>\n",
       "      <td>...</td>\n",
       "      <td>...</td>\n",
       "      <td>...</td>\n",
       "      <td>...</td>\n",
       "      <td>...</td>\n",
       "      <td>...</td>\n",
       "      <td>...</td>\n",
       "      <td>...</td>\n",
       "      <td>...</td>\n",
       "      <td>...</td>\n",
       "      <td>...</td>\n",
       "      <td>...</td>\n",
       "      <td>...</td>\n",
       "      <td>...</td>\n",
       "      <td>...</td>\n",
       "      <td>...</td>\n",
       "      <td>...</td>\n",
       "    </tr>\n",
       "    <tr>\n",
       "      <th>4931</th>\n",
       "      <td>0</td>\n",
       "      <td>1.0</td>\n",
       "      <td>1</td>\n",
       "      <td>0.329919</td>\n",
       "      <td>0.555338</td>\n",
       "      <td>-0.844207</td>\n",
       "      <td>0.354229</td>\n",
       "      <td>-2.498379</td>\n",
       "      <td>1.155290</td>\n",
       "      <td>1.746155</td>\n",
       "      <td>...</td>\n",
       "      <td>0</td>\n",
       "      <td>1</td>\n",
       "      <td>0</td>\n",
       "      <td>0</td>\n",
       "      <td>0</td>\n",
       "      <td>0</td>\n",
       "      <td>0</td>\n",
       "      <td>0</td>\n",
       "      <td>0</td>\n",
       "      <td>0</td>\n",
       "    </tr>\n",
       "    <tr>\n",
       "      <th>3264</th>\n",
       "      <td>0</td>\n",
       "      <td>1.0</td>\n",
       "      <td>1</td>\n",
       "      <td>2.897882</td>\n",
       "      <td>0.786824</td>\n",
       "      <td>-1.025898</td>\n",
       "      <td>-0.376717</td>\n",
       "      <td>2.274404</td>\n",
       "      <td>2.141955</td>\n",
       "      <td>0.917719</td>\n",
       "      <td>...</td>\n",
       "      <td>0</td>\n",
       "      <td>0</td>\n",
       "      <td>1</td>\n",
       "      <td>0</td>\n",
       "      <td>0</td>\n",
       "      <td>0</td>\n",
       "      <td>0</td>\n",
       "      <td>0</td>\n",
       "      <td>1</td>\n",
       "      <td>0</td>\n",
       "    </tr>\n",
       "    <tr>\n",
       "      <th>1653</th>\n",
       "      <td>0</td>\n",
       "      <td>1.0</td>\n",
       "      <td>1</td>\n",
       "      <td>2.027183</td>\n",
       "      <td>2.017322</td>\n",
       "      <td>-1.195349</td>\n",
       "      <td>1.004555</td>\n",
       "      <td>-0.465451</td>\n",
       "      <td>1.346698</td>\n",
       "      <td>-0.381936</td>\n",
       "      <td>...</td>\n",
       "      <td>0</td>\n",
       "      <td>0</td>\n",
       "      <td>0</td>\n",
       "      <td>1</td>\n",
       "      <td>0</td>\n",
       "      <td>0</td>\n",
       "      <td>1</td>\n",
       "      <td>0</td>\n",
       "      <td>0</td>\n",
       "      <td>0</td>\n",
       "    </tr>\n",
       "    <tr>\n",
       "      <th>2607</th>\n",
       "      <td>1</td>\n",
       "      <td>1.0</td>\n",
       "      <td>0</td>\n",
       "      <td>2.527560</td>\n",
       "      <td>0.531990</td>\n",
       "      <td>0.449760</td>\n",
       "      <td>0.431112</td>\n",
       "      <td>-0.010908</td>\n",
       "      <td>0.282032</td>\n",
       "      <td>-0.885033</td>\n",
       "      <td>...</td>\n",
       "      <td>0</td>\n",
       "      <td>1</td>\n",
       "      <td>0</td>\n",
       "      <td>0</td>\n",
       "      <td>0</td>\n",
       "      <td>1</td>\n",
       "      <td>0</td>\n",
       "      <td>0</td>\n",
       "      <td>0</td>\n",
       "      <td>0</td>\n",
       "    </tr>\n",
       "    <tr>\n",
       "      <th>2732</th>\n",
       "      <td>0</td>\n",
       "      <td>1.0</td>\n",
       "      <td>1</td>\n",
       "      <td>2.034285</td>\n",
       "      <td>1.862148</td>\n",
       "      <td>1.957732</td>\n",
       "      <td>-0.889437</td>\n",
       "      <td>-0.739173</td>\n",
       "      <td>1.288977</td>\n",
       "      <td>1.546067</td>\n",
       "      <td>...</td>\n",
       "      <td>0</td>\n",
       "      <td>0</td>\n",
       "      <td>0</td>\n",
       "      <td>1</td>\n",
       "      <td>0</td>\n",
       "      <td>1</td>\n",
       "      <td>0</td>\n",
       "      <td>0</td>\n",
       "      <td>0</td>\n",
       "      <td>0</td>\n",
       "    </tr>\n",
       "  </tbody>\n",
       "</table>\n",
       "<p>5641 rows × 100 columns</p>\n",
       "</div>"
      ],
      "text/plain": [
       "      x59  x79  x98  transformed_x1  transformed_x4  transformed_x5  \\\n",
       "1891    0  0.0    0        1.975301       -1.855417        1.181794   \n",
       "3055    0  1.0    0        2.843902       -1.497030        1.495477   \n",
       "5135    1  1.0    0        1.805649       -1.173456        0.566603   \n",
       "2359    0  1.0    1        4.787096        0.567696       -0.186570   \n",
       "3010    0  1.0    1        1.285235        0.034459        0.277515   \n",
       "...   ...  ...  ...             ...             ...             ...   \n",
       "4931    0  1.0    1        0.329919        0.555338       -0.844207   \n",
       "3264    0  1.0    1        2.897882        0.786824       -1.025898   \n",
       "1653    0  1.0    1        2.027183        2.017322       -1.195349   \n",
       "2607    1  1.0    0        2.527560        0.531990        0.449760   \n",
       "2732    0  1.0    1        2.034285        1.862148        1.957732   \n",
       "\n",
       "      transformed_x6  transformed_x8  transformed_x9  transformed_x10  ...  \\\n",
       "1891        0.267337        0.838011        1.332696        -0.897682  ...   \n",
       "3055       -0.811803        2.607994        2.757972         0.291428  ...   \n",
       "5135        0.584945        0.900835        1.812861         0.297323  ...   \n",
       "2359       -0.859806       -0.678377        2.586730        -1.200551  ...   \n",
       "3010       -2.070515        0.050910        3.907809        -1.724578  ...   \n",
       "...              ...             ...             ...              ...  ...   \n",
       "4931        0.354229       -2.498379        1.155290         1.746155  ...   \n",
       "3264       -0.376717        2.274404        2.141955         0.917719  ...   \n",
       "1653        1.004555       -0.465451        1.346698        -0.381936  ...   \n",
       "2607        0.431112       -0.010908        0.282032        -0.885033  ...   \n",
       "2732       -0.889437       -0.739173        1.288977         1.546067  ...   \n",
       "\n",
       "      cleaned_x3_Wednesday  cleaned_x3_Saturday  cleaned_x3_Tuesday  \\\n",
       "1891                     0                    0                   0   \n",
       "3055                     1                    0                   0   \n",
       "5135                     0                    0                   0   \n",
       "2359                     0                    1                   0   \n",
       "3010                     0                    0                   0   \n",
       "...                    ...                  ...                 ...   \n",
       "4931                     0                    1                   0   \n",
       "3264                     0                    0                   1   \n",
       "1653                     0                    0                   0   \n",
       "2607                     0                    1                   0   \n",
       "2732                     0                    0                   0   \n",
       "\n",
       "      cleaned_x3_Friday  cleaned_x3_Sunday  cleaned_x33_Midwest  \\\n",
       "1891                  0                  0                    1   \n",
       "3055                  0                  0                    0   \n",
       "5135                  0                  0                    1   \n",
       "2359                  0                  0                    0   \n",
       "3010                  0                  0                    0   \n",
       "...                 ...                ...                  ...   \n",
       "4931                  0                  0                    0   \n",
       "3264                  0                  0                    0   \n",
       "1653                  1                  0                    0   \n",
       "2607                  0                  0                    1   \n",
       "2732                  1                  0                    1   \n",
       "\n",
       "      cleaned_x33_Missing  cleaned_x33_Northeast  cleaned_x33_South  \\\n",
       "1891                    0                      0                  0   \n",
       "3055                    1                      0                  0   \n",
       "5135                    0                      0                  0   \n",
       "2359                    0                      1                  0   \n",
       "3010                    0                      0                  1   \n",
       "...                   ...                    ...                ...   \n",
       "4931                    0                      0                  0   \n",
       "3264                    0                      0                  1   \n",
       "1653                    1                      0                  0   \n",
       "2607                    0                      0                  0   \n",
       "2732                    0                      0                  0   \n",
       "\n",
       "      cleaned_x33_Southwest  \n",
       "1891                      0  \n",
       "3055                      0  \n",
       "5135                      0  \n",
       "2359                      0  \n",
       "3010                      0  \n",
       "...                     ...  \n",
       "4931                      0  \n",
       "3264                      0  \n",
       "1653                      0  \n",
       "2607                      0  \n",
       "2732                      0  \n",
       "\n",
       "[5641 rows x 100 columns]"
      ]
     },
     "execution_count": 8,
     "metadata": {},
     "output_type": "execute_result"
    }
   ],
   "source": [
    "# transform data\n",
    "\n",
    "X_train_enc = pipe_enc.transform(X_train)\n",
    "X_test_enc = pipe_enc.transform(X_test)\n",
    "\n",
    "X_train_enc"
   ]
  },
  {
   "cell_type": "markdown",
   "id": "31fd1444",
   "metadata": {},
   "source": [
    "### Undersampling"
   ]
  },
  {
   "cell_type": "code",
   "execution_count": 9,
   "id": "cbbedaa8",
   "metadata": {},
   "outputs": [],
   "source": [
    "# class to perform under-sampling based on the condensed nearest neighbour method.\n",
    "\n",
    "renn = RepeatedEditedNearestNeighbours(\n",
    "                                        sampling_strategy='auto',# removes only the majority class\n",
    "                                        n_neighbors=5, # the number of neighbours to examine\n",
    "                                        kind_sel='all', # all neighbouring observations should show the same class\n",
    "                                        n_jobs=8, # 4 processors in my laptop\n",
    "                                        max_iter=100) # maximum number of iterations\n",
    "\n",
    "X_resampled, y_resampled = renn.fit_resample(X_train_enc, y_train)"
   ]
  },
  {
   "cell_type": "code",
   "execution_count": 10,
   "id": "e500c404",
   "metadata": {},
   "outputs": [
    {
     "data": {
      "text/plain": [
       "((1779, 100), (1779,))"
      ]
     },
     "execution_count": 10,
     "metadata": {},
     "output_type": "execute_result"
    }
   ],
   "source": [
    "# size of undersampled data\n",
    "\n",
    "X_resampled.shape, y_resampled.shape"
   ]
  },
  {
   "cell_type": "code",
   "execution_count": 11,
   "id": "f7fff415",
   "metadata": {},
   "outputs": [
    {
     "name": "stdout",
     "output_type": "stream",
     "text": [
      "Number of 1-0 classes before undersampling: \n",
      " 0    4768\n",
      "1     873\n",
      "Name: y, dtype: int64 \n",
      "\n",
      "Number of 1-0 classes after  undersampling: \n",
      " 0    906\n",
      "1    873\n",
      "Name: y, dtype: int64\n"
     ]
    }
   ],
   "source": [
    "# number of minority class before & after undersampling\n",
    "\n",
    "print('Number of 1-0 classes before undersampling: \\n',y_train.value_counts(),'\\n')\n",
    "print('Number of 1-0 classes after  undersampling: \\n', y_resampled.value_counts())"
   ]
  },
  {
   "cell_type": "markdown",
   "id": "0ae82f3b",
   "metadata": {},
   "source": [
    "### Feature Scaling"
   ]
  },
  {
   "cell_type": "code",
   "execution_count": 12,
   "id": "9ad59f68",
   "metadata": {},
   "outputs": [
    {
     "data": {
      "text/plain": [
       "StandardScaler()"
      ]
     },
     "execution_count": 12,
     "metadata": {},
     "output_type": "execute_result"
    }
   ],
   "source": [
    "# logistic model benefit from feature scaling\n",
    "\n",
    "scaler = StandardScaler()\n",
    "scaler.fit(X_resampled)"
   ]
  },
  {
   "cell_type": "code",
   "execution_count": 13,
   "id": "31e78c1f",
   "metadata": {},
   "outputs": [],
   "source": [
    "# transform train and test sets\n",
    "\n",
    "X_train_scaled = scaler.transform(X_resampled)\n",
    "X_test_scaled = scaler.transform(X_test_enc)"
   ]
  },
  {
   "cell_type": "code",
   "execution_count": 14,
   "id": "6eaae9cc",
   "metadata": {},
   "outputs": [
    {
     "data": {
      "text/plain": [
       "array([[ 3.11718903,  0.34067613, -1.01529401, ..., -0.40905114,\n",
       "        -0.55245733, -0.29789141],\n",
       "       [-0.32080185,  0.34067613,  0.98493638, ..., -0.40905114,\n",
       "        -0.55245733,  3.35692799],\n",
       "       [-0.32080185,  0.34067613, -1.01529401, ...,  2.4446821 ,\n",
       "        -0.55245733, -0.29789141],\n",
       "       ...,\n",
       "       [ 3.11718903,  0.34067613, -1.01529401, ..., -0.40905114,\n",
       "        -0.55245733, -0.29789141],\n",
       "       [-0.32080185,  0.34067613, -1.01529401, ..., -0.40905114,\n",
       "        -0.55245733, -0.29789141],\n",
       "       [-0.32080185,  0.34067613,  0.98493638, ..., -0.40905114,\n",
       "        -0.55245733, -0.29789141]])"
      ]
     },
     "execution_count": 14,
     "metadata": {},
     "output_type": "execute_result"
    }
   ],
   "source": [
    "# since scaling returns a NumPy array, \n",
    "# i am capturing the feature names first and then convert the array to a dataframe.\n",
    "\n",
    "X_train_features = scaler.fit_transform(X_resampled)\n",
    "df_scaled_X_train = pd.DataFrame(X_train_features, index=X_resampled.index, columns=X_resampled.columns)\n",
    "\n",
    "X_test_features = scaler.fit_transform(X_test_enc)\n",
    "df_scaled_X_test = pd.DataFrame(X_test_features, index=X_test_enc.index, columns=X_test_enc.columns)\n",
    "\n",
    "X_train_features"
   ]
  },
  {
   "cell_type": "markdown",
   "id": "3bdb2cb9",
   "metadata": {},
   "source": [
    "## Modelling"
   ]
  },
  {
   "cell_type": "markdown",
   "id": "6e41f174",
   "metadata": {},
   "source": [
    "### 1. Feature Selection & Logistic Regression"
   ]
  },
  {
   "cell_type": "markdown",
   "id": "9dff8143",
   "metadata": {},
   "source": [
    "This part, i will use lasso regression to remove non-essential features from the dataset."
   ]
  },
  {
   "cell_type": "code",
   "execution_count": 15,
   "id": "2782ec22",
   "metadata": {},
   "outputs": [
    {
     "data": {
      "text/plain": [
       "SelectFromModel(estimator=LogisticRegression(C=0.5, penalty='l1',\n",
       "                                             random_state=10,\n",
       "                                             solver='liblinear'))"
      ]
     },
     "execution_count": 15,
     "metadata": {},
     "output_type": "execute_result"
    }
   ],
   "source": [
    "# feature selection and model fitting will be placed together within sel_ object.\n",
    "# first I specify the Logistic Regression model, and I\n",
    "# make sure I select the Lasso (l1) penalty.\n",
    "\n",
    "# then I use the selectFromModel class from sklearn, which\n",
    "# will select the features which coefficients are non-zero\n",
    "\n",
    "sel_ = SelectFromModel(\n",
    "                        LogisticRegression(C=0.5, penalty='l1', solver='liblinear', random_state=10))\n",
    "\n",
    "sel_.fit(X_train_scaled, y_resampled)"
   ]
  },
  {
   "cell_type": "code",
   "execution_count": 16,
   "id": "61d260b4",
   "metadata": {},
   "outputs": [
    {
     "name": "stdout",
     "output_type": "stream",
     "text": [
      "total features: 100\n",
      "selected features: 93\n",
      "features with coefficients shrank to zero: 7\n"
     ]
    }
   ],
   "source": [
    "# a list with the selected features\n",
    "\n",
    "selected_feats = df_scaled_X_train.columns[(sel_.get_support())]\n",
    "\n",
    "print('total features: {}'.format((df_scaled_X_train.shape[1])))\n",
    "print('selected features: {}'.format(len(selected_feats)))\n",
    "print('features with coefficients shrank to zero: {}'.format(np.sum(sel_.estimator_.coef_ == 0)))"
   ]
  },
  {
   "cell_type": "code",
   "execution_count": 17,
   "id": "6bdae66f",
   "metadata": {},
   "outputs": [
    {
     "name": "stdout",
     "output_type": "stream",
     "text": [
      "Removed features:  Index(['transformed_x16', 'transformed_x35', 'transformed_x49',\n",
      "       'transformed_x52', 'transformed_x78', 'transformed_x97',\n",
      "       'x65_esurance'],\n",
      "      dtype='object')\n"
     ]
    }
   ],
   "source": [
    "# let's see the features that our model selected  & removed\n",
    "\n",
    "removed_feats = df_scaled_X_train.columns[(sel_.estimator_.coef_ == 0).ravel().tolist()]\n",
    "print('Removed features: ',removed_feats)"
   ]
  },
  {
   "cell_type": "code",
   "execution_count": 18,
   "id": "4beb9b82",
   "metadata": {},
   "outputs": [
    {
     "data": {
      "text/plain": [
       "((1779, 93), (1411, 93))"
      ]
     },
     "execution_count": 18,
     "metadata": {},
     "output_type": "execute_result"
    }
   ],
   "source": [
    "# I am removing the features from the train and test set.\n",
    "\n",
    "X_train_selected = sel_.transform(X_train_scaled)\n",
    "X_test_selected = sel_.transform(X_test_scaled)\n",
    "\n",
    "X_train_selected.shape, X_test_selected.shape"
   ]
  },
  {
   "cell_type": "markdown",
   "id": "53a6db54",
   "metadata": {},
   "source": [
    "- Since SelectFromModel returns a NumPy array, i will capture the feature names first and then convert the array to a dataframe."
   ]
  },
  {
   "cell_type": "code",
   "execution_count": 19,
   "id": "4581a2cb",
   "metadata": {},
   "outputs": [],
   "source": [
    "# fit model with selected features\n",
    "\n",
    "lg_model = sel_.estimator_.fit(X_train_selected,y_resampled)"
   ]
  },
  {
   "cell_type": "markdown",
   "id": "49f4092b",
   "metadata": {},
   "source": [
    "### 2. Evaluation of Logistic Regression"
   ]
  },
  {
   "cell_type": "code",
   "execution_count": 20,
   "id": "41d262c3",
   "metadata": {},
   "outputs": [
    {
     "name": "stdout",
     "output_type": "stream",
     "text": [
      "Train set\n",
      "Logistic Regression roc-auc: 0.7820600350469948\n",
      "Test set\n",
      "Logistic Regression roc-auc:: 0.6745099343130952\n"
     ]
    }
   ],
   "source": [
    "# Model performance metrics\n",
    "\n",
    "print('Train set')\n",
    "pred = lg_model.predict_proba(X_train_selected)\n",
    "print(\n",
    "       'Logistic Regression roc-auc: {}'.format(roc_auc_score(y_resampled, pred[:, 1])))\n",
    "\n",
    "\n",
    "print('Test set')\n",
    "pred = lg_model.predict_proba(X_test_selected)\n",
    "print(\n",
    "        'Logistic Regression roc-auc:: {}'.format(roc_auc_score(y_test, pred[:, 1])))"
   ]
  },
  {
   "cell_type": "code",
   "execution_count": 21,
   "id": "2b859d46",
   "metadata": {},
   "outputs": [],
   "source": [
    "# Predictions\n",
    "\n",
    "y_pred=lg_model.predict(X_test_selected)"
   ]
  },
  {
   "cell_type": "code",
   "execution_count": 22,
   "id": "9b77fa2e",
   "metadata": {},
   "outputs": [
    {
     "name": "stdout",
     "output_type": "stream",
     "text": [
      "              precision    recall  f1-score   support\n",
      "\n",
      "           0       0.89      0.65      0.75      1182\n",
      "           1       0.24      0.59      0.35       229\n",
      "\n",
      "    accuracy                           0.64      1411\n",
      "   macro avg       0.57      0.62      0.55      1411\n",
      "weighted avg       0.79      0.64      0.68      1411\n",
      "\n"
     ]
    }
   ],
   "source": [
    "# Let's see precision, recall and f1-score along\n",
    "\n",
    "from sklearn.metrics import confusion_matrix\n",
    "\n",
    "confusion_matrix = confusion_matrix(y_test, y_pred)\n",
    "pd.crosstab(y_test, y_pred, rownames=['True'], colnames=['Predicted'], margins=True)\n",
    "\n",
    "print(classification_report(y_test, y_pred))"
   ]
  },
  {
   "cell_type": "markdown",
   "id": "7333eb3a",
   "metadata": {},
   "source": [
    "- The model performs poorly on the training data. Let's see the ROC curve"
   ]
  },
  {
   "cell_type": "markdown",
   "id": "a14e4ffd",
   "metadata": {},
   "source": [
    "- This is because the model is unable to capture the relationship between the target and predictors. This gives me a hint to what model I should pick up as second algorithm. To overcome this, we need to increase the complexity of the model and adding more features to the dataset. Then I will go with Neural Network."
   ]
  },
  {
   "cell_type": "code",
   "execution_count": 23,
   "id": "3a69aa83",
   "metadata": {},
   "outputs": [
    {
     "data": {
      "image/png": "[encoded data removed]",
      "text/plain": [
       "<Figure size 640x480 with 1 Axes>"
      ]
     },
     "metadata": {},
     "output_type": "display_data"
    }
   ],
   "source": [
    "#ROC Curve\n",
    "\n",
    "area_under_curve = roc_auc_score(y_test, lg_model.predict(X_test_selected))\n",
    "fpr, tpr, thresholds = roc_curve(y_test, lg_model.predict_proba(X_test_selected)[:,1])\n",
    "plt.figure()\n",
    "plt.plot(fpr, tpr, label='Logistic Regression (area = %0.2f)' % area_under_curve)\n",
    "plt.plot([0, 1], [0, 1],'r--')\n",
    "plt.xlim([0.0, 1.0])\n",
    "plt.ylim([0.0, 1.05])\n",
    "plt.xlabel('False Positive Rate')\n",
    "plt.ylabel('True Positive Rate')\n",
    "plt.title('Receiver operating characteristic')\n",
    "plt.legend(loc=\"lower right\")\n",
    "#plt.savefig('Log_ROC')\n",
    "plt.show()"
   ]
  },
  {
   "cell_type": "markdown",
   "id": "9c584ba3",
   "metadata": {},
   "source": [
    "- Since, the higher the AUC, the better the model’s performance at distinguishing between the positive and negative classes, logistic regression failed to achieve that. Let's generate predictions for test.csv and save them"
   ]
  },
  {
   "cell_type": "markdown",
   "id": "3025bdc4",
   "metadata": {},
   "source": [
    "### 3. Generate Predictions of Logistic Regression  "
   ]
  },
  {
   "cell_type": "markdown",
   "id": "781be061",
   "metadata": {},
   "source": [
    "I have already apply the necessary data cleaning steps to the provided test.csv file earlier. Now, I am loading the cleaned dataset and continue with encodig, scaling processes"
   ]
  },
  {
   "cell_type": "code",
   "execution_count": 24,
   "id": "010e50a3",
   "metadata": {},
   "outputs": [],
   "source": [
    "# Load formatted test.csv file (after applying same formattings as I did in training.csv)\n",
    "\n",
    "oos_data = pd.read_csv('cleaned_test.csv')\n",
    "oos_data = oos_data.loc[:, ~oos_data.columns.str.contains('^Unnamed')]"
   ]
  },
  {
   "cell_type": "code",
   "execution_count": 26,
   "id": "5860e332",
   "metadata": {},
   "outputs": [],
   "source": [
    "# categorical = [var for var in oos_data.columns if oos_data[var].dtype=='O' ]\n",
    "# oos_data['x79']=oos_data['x79'].astype('float')"
   ]
  },
  {
   "cell_type": "code",
   "execution_count": 27,
   "id": "37d26414",
   "metadata": {},
   "outputs": [],
   "source": [
    "# oos_data[['x24',\n",
    "#  'x31',\n",
    "#  'x59',\n",
    "#  'x60',\n",
    "#  'x65',\n",
    "#  'x77',\n",
    "#  'x79',\n",
    "#  'x93',\n",
    "#  'x98',\n",
    "#  'cleaned_x3',\n",
    "#  'cleaned_x33']]"
   ]
  },
  {
   "cell_type": "code",
   "execution_count": null,
   "id": "e6ddfb5a",
   "metadata": {},
   "outputs": [],
   "source": []
  },
  {
   "cell_type": "code",
   "execution_count": 30,
   "id": "fd6fc41e",
   "metadata": {},
   "outputs": [],
   "source": [
    "#  ohe \n",
    "\n",
    "X_oos_enc = pipe_enc.transform(oos_data)\n",
    "\n",
    "\n",
    "\n",
    "# scaling\n",
    "\n",
    "X_oos_scaled = scaler.transform(oos_enc)\n",
    "\n",
    "\n",
    "\n",
    "# scaling in dataframe format\n",
    "\n",
    "X_oos_features = scaler.fit_transform(X_oos_enc)\n",
    "df_scaled_X_oos = pd.DataFrame(X_oos_features, index=X_oos_enc.index, columns=X_oos_enc.columns)\n",
    "df_scaled_X_oos.drop(removed_feats,axis=1, inplace=True)\n",
    "\n",
    "\n",
    "\n",
    "# feature engineering\n",
    "\n",
    "X_test_selected = sel_.transform(df_scaled_X_oos.to_numpy())"
   ]
  },
  {
   "cell_type": "code",
   "execution_count": 31,
   "id": "63d649e7",
   "metadata": {},
   "outputs": [
    {
     "name": "stdout",
     "output_type": "stream",
     "text": [
      "out of sample set\n",
      "[0.29438956 0.22295481 0.68353015 ... 0.53162364 0.58265759 0.07308755]\n"
     ]
    }
   ],
   "source": [
    "# predict results\n",
    "\n",
    "print('out of sample set')\n",
    "pred = lg_model.predict_proba(X_test_selected)\n",
    "print(pred[:, 1])"
   ]
  },
  {
   "cell_type": "code",
   "execution_count": 32,
   "id": "58aae71b",
   "metadata": {},
   "outputs": [],
   "source": [
    "# save to csv file\n",
    "\n",
    "savetxt('glmresults.csv', pred[:, 1])"
   ]
  },
  {
   "cell_type": "code",
   "execution_count": 42,
   "id": "3ad271c1",
   "metadata": {},
   "outputs": [
    {
     "data": {
      "text/plain": [
       "10000"
      ]
     },
     "execution_count": 42,
     "metadata": {},
     "output_type": "execute_result"
    }
   ],
   "source": [
    "len(pred[:, 1])"
   ]
  },
  {
   "cell_type": "markdown",
   "id": "da67e6c7",
   "metadata": {},
   "source": [
    "### 4. Neural Network"
   ]
  },
  {
   "cell_type": "code",
   "execution_count": 33,
   "id": "16954e32",
   "metadata": {},
   "outputs": [],
   "source": [
    "# Scaling the data\n",
    "\n",
    "scaler = StandardScaler()\n",
    "scaler.fit(X_train_enc)\n",
    "\n",
    "\n",
    "# transform train and test sets\n",
    "\n",
    "X_train_scaled = scaler.transform(X_train_enc)\n",
    "X_test_scaled = scaler.transform(X_test_enc)"
   ]
  },
  {
   "cell_type": "code",
   "execution_count": 34,
   "id": "2f47a880",
   "metadata": {},
   "outputs": [
    {
     "name": "stdout",
     "output_type": "stream",
     "text": [
      "Model: \"sequential\"\n",
      "_________________________________________________________________\n",
      " Layer (type)                Output Shape              Param #   \n",
      "=================================================================\n",
      " dense (Dense)               (None, 8)                 808       \n",
      "                                                                 \n",
      " dense_1 (Dense)             (None, 1)                 9         \n",
      "                                                                 \n",
      "=================================================================\n",
      "Total params: 817\n",
      "Trainable params: 817\n",
      "Non-trainable params: 0\n",
      "_________________________________________________________________\n"
     ]
    },
    {
     "name": "stderr",
     "output_type": "stream",
     "text": [
      "2023-02-23 14:21:57.776174: I tensorflow/core/platform/cpu_feature_guard.cc:193] This TensorFlow binary is optimized with oneAPI Deep Neural Network Library (oneDNN) to use the following CPU instructions in performance-critical operations:  SSE4.1 SSE4.2\n",
      "To enable them in other operations, rebuild TensorFlow with the appropriate compiler flags.\n"
     ]
    }
   ],
   "source": [
    "from keras.models import Sequential\n",
    "from keras.layers import Dense\n",
    "\n",
    "model = Sequential() \n",
    "model.add(Dense(8, activation='relu', input_dim=X_train_enc.shape[1]))\n",
    "model.add(Dense(1, activation='sigmoid')) \n",
    "model.compile(loss='binary_crossentropy', optimizer='adam', metrics=['accuracy']) \n",
    "model.summary()"
   ]
  },
  {
   "cell_type": "code",
   "execution_count": 35,
   "id": "0a0cd1e7",
   "metadata": {},
   "outputs": [
    {
     "name": "stdout",
     "output_type": "stream",
     "text": [
      "Epoch 1/10\n",
      "565/565 [==============================] - 1s 628us/step - loss: 0.6063 - accuracy: 0.6958 - val_loss: 0.4495 - val_accuracy: 0.8306\n",
      "Epoch 2/10\n",
      "565/565 [==============================] - 0s 496us/step - loss: 0.4092 - accuracy: 0.8426 - val_loss: 0.4357 - val_accuracy: 0.8320\n",
      "Epoch 3/10\n",
      "565/565 [==============================] - 0s 496us/step - loss: 0.3867 - accuracy: 0.8465 - val_loss: 0.4337 - val_accuracy: 0.8342\n",
      "Epoch 4/10\n",
      "565/565 [==============================] - 0s 494us/step - loss: 0.3756 - accuracy: 0.8488 - val_loss: 0.4369 - val_accuracy: 0.8342\n",
      "Epoch 5/10\n",
      "565/565 [==============================] - 0s 492us/step - loss: 0.3672 - accuracy: 0.8522 - val_loss: 0.4364 - val_accuracy: 0.8278\n",
      "Epoch 6/10\n",
      "565/565 [==============================] - 0s 493us/step - loss: 0.3619 - accuracy: 0.8553 - val_loss: 0.4384 - val_accuracy: 0.8342\n",
      "Epoch 7/10\n",
      "565/565 [==============================] - 0s 492us/step - loss: 0.3566 - accuracy: 0.8537 - val_loss: 0.4396 - val_accuracy: 0.8377\n",
      "Epoch 8/10\n",
      "565/565 [==============================] - 0s 494us/step - loss: 0.3523 - accuracy: 0.8566 - val_loss: 0.4432 - val_accuracy: 0.8264\n",
      "Epoch 9/10\n",
      "565/565 [==============================] - 0s 493us/step - loss: 0.3478 - accuracy: 0.8580 - val_loss: 0.4456 - val_accuracy: 0.8285\n",
      "Epoch 10/10\n",
      "565/565 [==============================] - 0s 493us/step - loss: 0.3432 - accuracy: 0.8596 - val_loss: 0.4486 - val_accuracy: 0.8242\n"
     ]
    }
   ],
   "source": [
    "# Model Creation\n",
    "\n",
    "hist = model.fit(X_train_scaled, y_train, \n",
    "                 validation_data=(X_test_scaled, y_test), \n",
    "                 epochs=10, \n",
    "                 batch_size=10, \n",
    "                 validation_split=0.2)"
   ]
  },
  {
   "cell_type": "code",
   "execution_count": 36,
   "id": "81a545b9",
   "metadata": {},
   "outputs": [
    {
     "data": {
      "text/plain": [
       "[]"
      ]
     },
     "execution_count": 36,
     "metadata": {},
     "output_type": "execute_result"
    },
    {
     "data": {
      "image/png": "[encoded data removed]",
      "text/plain": [
       "<Figure size 640x480 with 1 Axes>"
      ]
     },
     "metadata": {},
     "output_type": "display_data"
    }
   ],
   "source": [
    "import seaborn as sns\n",
    "import matplotlib.pyplot as plt\n",
    "%matplotlib inline\n",
    "\n",
    "sns.set()\n",
    "acc = hist.history['accuracy']\n",
    "val = hist.history['val_accuracy']\n",
    "epochs = range(1, len(acc) + 1)\n",
    "\n",
    "plt.plot(epochs, acc, '-', label='Training accuracy')\n",
    "plt.plot(epochs, val, ':', label='Validation accuracy')\n",
    "plt.title('Training and Validation Accuracy')\n",
    "plt.xlabel('Epoch')\n",
    "plt.ylabel('Accuracy')\n",
    "plt.legend(loc='lower right')\n",
    "plt.plot()"
   ]
  },
  {
   "cell_type": "markdown",
   "id": "9ed6b62a",
   "metadata": {},
   "source": [
    "### 5. Evaluation of Neural Network"
   ]
  },
  {
   "cell_type": "code",
   "execution_count": 37,
   "id": "2fb3e707",
   "metadata": {},
   "outputs": [
    {
     "name": "stdout",
     "output_type": "stream",
     "text": [
      "45/45 [==============================] - 0s 317us/step\n"
     ]
    },
    {
     "data": {
      "text/plain": [
       "Text(110.45000000000003, 0.5, 'Actual label')"
      ]
     },
     "execution_count": 37,
     "metadata": {},
     "output_type": "execute_result"
    },
    {
     "data": {
      "image/png": "[encoded data removed]",
      "text/plain": [
       "<Figure size 640x480 with 1 Axes>"
      ]
     },
     "metadata": {},
     "output_type": "display_data"
    }
   ],
   "source": [
    "from sklearn.metrics import confusion_matrix\n",
    "\n",
    "y_predicted = model.predict(X_test_scaled) > 0.5\n",
    "mat = confusion_matrix(y_test, y_predicted)\n",
    "labels = ['0', '1']\n",
    "\n",
    "sns.heatmap(mat, square=True, annot=True, fmt='d', cbar=False, cmap='Blues',\n",
    "            xticklabels=labels, yticklabels=labels)\n",
    "\n",
    "plt.xlabel('Predicted label')\n",
    "plt.ylabel('Actual label')"
   ]
  },
  {
   "cell_type": "markdown",
   "id": "cbb5aade",
   "metadata": {},
   "source": [
    "### 6. Generate Predictions of Neural Network"
   ]
  },
  {
   "cell_type": "code",
   "execution_count": 38,
   "id": "eac1333d",
   "metadata": {},
   "outputs": [
    {
     "name": "stdout",
     "output_type": "stream",
     "text": [
      "313/313 [==============================] - 0s 279us/step\n"
     ]
    },
    {
     "data": {
      "text/plain": [
       "array([[0.9999998],\n",
       "       [0.9999994],\n",
       "       [1.       ],\n",
       "       ...,\n",
       "       [1.       ],\n",
       "       [1.       ],\n",
       "       [0.9999999]], dtype=float32)"
      ]
     },
     "execution_count": 38,
     "metadata": {},
     "output_type": "execute_result"
    }
   ],
   "source": [
    "y_oos_preds = model.predict(X_oos_scaled)\n",
    "y_oos_preds"
   ]
  },
  {
   "cell_type": "code",
   "execution_count": 39,
   "id": "e9db5d5b",
   "metadata": {},
   "outputs": [],
   "source": [
    "# save to csv file\n",
    "\n",
    "savetxt('nonglmresults.csv', y_oos_preds)"
   ]
  },
  {
   "cell_type": "markdown",
   "id": "a5a018af",
   "metadata": {},
   "source": [
    "## Summarization"
   ]
  },
  {
   "cell_type": "markdown",
   "id": "2b9b3ef7",
   "metadata": {},
   "source": [
    "- The first model of the study is Logistic Regression. The model performed poorly on the training data. Therefore it under fitted. While precision of class 0 is fairly doing good, however it failed on recall and f1 scores. It’s training roc score is  0.78 whereas testing roc score is 0.67. The one of the main reasons of under fitting is lack of the complexity in model. This is the weakness of the logistic regression we can state because logistic regression tends to underperform when there are multiple or non linear boundaries. They are not naturally enough mature to capture more complex relationships. However, logistic regression less likely to overfit compared to Neural Networks. That could be the strength of the logistic regression.\n",
    "\n",
    "- The second model is only one layer of Neural Network, not that complicated. Since, logistic regression results showed the model is too simple, Neural Network was chosen as the second option. The model correctly identified 1138 transactions as class 0 while misclassifying class 0  44 times. This means class 0 classified correctly more than 96% of the time. Meanwhile the model caught only 13% of class 1 correctly. The neural network helped to improve the prediction of one class but not other. Therefore we can interpret that the data needs complexity but complexity does not fully address the problem here. That being said, we should go back to the data cleaning steps and grab new techniques especially for outliers engineering since most of the data was trimmed on that process. Aside from its tendency to overfitting, Neural Networks have the ability to learn by themselves to find the best features. I did not need to do much for feature selection on Neural Network.\n",
    "\n",
    "- After, revisiting and choosing the appropriate data cleaning techniques that are suitable for this dataset along with selecting the right features (since logistic regression overfits in high dimensions and it needs to be given the right features by the developer) logistic regression could perform better.  \n"
   ]
  },
  {
   "cell_type": "code",
   "execution_count": null,
   "id": "22c22514",
   "metadata": {},
   "outputs": [],
   "source": []
  }
 ],
 "metadata": {
  "kernelspec": {
   "display_name": "Python 3 (ipykernel)",
   "language": "python",
   "name": "python3"
  },
  "language_info": {
   "codemirror_mode": {
    "name": "ipython",
    "version": 3
   },
   "file_extension": ".py",
   "mimetype": "text/x-python",
   "name": "python",
   "nbconvert_exporter": "python",
   "pygments_lexer": "ipython3",
   "version": "3.8.13"
  }
 },
 "nbformat": 4,
 "nbformat_minor": 5
}
